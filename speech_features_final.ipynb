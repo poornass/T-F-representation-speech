{
  "nbformat": 4,
  "nbformat_minor": 0,
  "metadata": {
    "colab": {
      "name": "speech features final.ipynb",
      "provenance": []
    },
    "kernelspec": {
      "name": "python3",
      "display_name": "Python 3"
    },
    "language_info": {
      "name": "python"
    }
  },
  "cells": [
    {
      "cell_type": "code",
      "execution_count": null,
      "metadata": {
        "colab": {
          "base_uri": "https://localhost:8080/"
        },
        "id": "aVVEPWBGzanl",
        "outputId": "2295a6a1-0837-4692-f573-df92f7479e94"
      },
      "outputs": [
        {
          "output_type": "stream",
          "name": "stdout",
          "text": [
            "Mounted at /content/drive\n"
          ]
        }
      ],
      "source": [
        "\n",
        "from google.colab import drive\n",
        "drive.mount('/content/drive')"
      ]
    },
    {
      "cell_type": "code",
      "source": [
        "# Get the critical imports out of the way\n",
        "import matplotlib.pyplot as plt\n",
        "import pandas as pd\n",
        "import numpy as np\n",
        "import librosa.display\n",
        "import soundfile\n",
        "import os\n",
        "# matplotlib complains about the behaviour of librosa.display, so we'll ignore those warnings:\n",
        "import warnings; warnings.filterwarnings('ignore')\n",
        "from IPython.core.display import HTML \n",
        "# Center matplotlib figures...\n",
        "HTML(\"\"\"\n",
        "<style>\n",
        ".output_jpg {\n",
        "    display: table-cell;\n",
        "    text-align: center;\n",
        "    vertical-align: middle;\n",
        "}\n",
        "</style>\n",
        "\"\"\")"
      ],
      "metadata": {
        "colab": {
          "base_uri": "https://localhost:8080/",
          "height": 17
        },
        "id": "L9d9ZNQBziTT",
        "outputId": "535dee19-8751-4a25-c477-3cd4016a1001"
      },
      "execution_count": null,
      "outputs": [
        {
          "output_type": "execute_result",
          "data": {
            "text/plain": [
              "<IPython.core.display.HTML object>"
            ],
            "text/html": [
              "\n",
              "<style>\n",
              ".output_jpg {\n",
              "    display: table-cell;\n",
              "    text-align: center;\n",
              "    vertical-align: middle;\n",
              "}\n",
              "</style>\n"
            ]
          },
          "metadata": {},
          "execution_count": 2
        }
      ]
    },
    {
      "cell_type": "code",
      "source": [
        "import os, glob\n",
        "os.makedirs('speech_waveforms',exist_ok=True)\n",
        "out_dir='/content/speech_waveforms'\n",
        "data_dir='/content/drive/My Drive/berlin_speech/'\n",
        "os.listdir(data_dir)"
      ],
      "metadata": {
        "colab": {
          "base_uri": "https://localhost:8080/"
        },
        "id": "8FOJ4oQHzbLa",
        "outputId": "d9555af0-daa1-488f-eb62-0d61c2d445da"
      },
      "execution_count": null,
      "outputs": [
        {
          "output_type": "execute_result",
          "data": {
            "text/plain": [
              "['anger']"
            ]
          },
          "metadata": {},
          "execution_count": 3
        }
      ]
    },
    {
      "cell_type": "code",
      "source": [
        "for folder in os.listdir(data_dir):\n",
        "  print(os.listdir(os.path.join(data_dir,folder)))\n",
        "  break"
      ],
      "metadata": {
        "colab": {
          "base_uri": "https://localhost:8080/"
        },
        "id": "cnwZR-BIzzfT",
        "outputId": "919a8b1b-ca76-4339-ccd8-9e664292850d"
      },
      "execution_count": null,
      "outputs": [
        {
          "output_type": "stream",
          "name": "stdout",
          "text": [
            "['ang(16).wav', 'ang(1).wav', 'ang(15).wav', 'ang(50).wav', 'ang(61).wav', 'ang(40).wav', 'ang(27).wav', 'ang(114).wav', 'ang(86).wav', 'ang(101).wav', 'ang(73).wav', 'ang(85).wav', 'ang(2).wav', 'ang(3).wav', 'ang(17).wav', 'ang(28).wav', 'ang(41).wav', 'ang(63).wav', 'ang(74).wav', 'ang(62).wav', 'ang(51).wav', 'ang(102).wav', 'ang(88).wav', 'ang(103).wav', 'ang(87).wav', 'ang(115).wav', 'ang(29).wav', 'ang(42).wav', 'ang(4).wav', 'ang(18).wav', 'ang(43).wav', 'ang(52).wav', 'ang(64).wav', 'ang(89).wav', 'ang(90).wav', 'ang(75).wav', 'ang(104).wav', 'ang(116).wav', 'ang(105).wav', 'ang(117).wav', 'ang(6).wav', 'ang(30).wav', 'ang(19).wav', 'ang(5).wav', 'ang(31).wav', 'ang(53).wav', 'ang(44).wav', 'ang(65).wav', 'ang(76).wav', 'ang(77).wav', 'ang(92).wav', 'ang(91).wav', 'ang(118).wav', 'ang(119).wav', 'ang(106).wav', 'ang(33).wav', 'ang(7).wav', 'ang(45).wav', 'ang(20).wav', 'ang(32).wav', 'ang(78).wav', 'ang(54).wav', 'ang(66).wav', 'ang(120).wav', 'ang(93).wav', 'ang(22).wav', 'ang(10).wav', 'ang(56).wav', 'ang(36).wav', 'ang(35).wav', 'ang(46).wav', 'ang(80).wav', 'ang(70).wav', 'ang(68).wav', 'ang(69).wav', 'ang(96).wav', 'ang(95).wav', 'ang(108).wav', 'ang(109).wav', 'ang(123).wav', 'ang(11).wav', 'ang(23).wav', 'ang(37).wav', 'ang(47).wav', 'ang(58).wav', 'ang(57).wav', 'ang(81).wav', 'ang(97).wav', 'ang(110).wav', 'ang(124).wav', 'ang(111).wav', 'ang(25).wav', 'ang(12).wav', 'ang(24).wav', 'ang(59).wav', 'ang(38).wav', 'ang(71).wav', 'ang(48).wav', 'ang(82).wav', 'ang(98).wav', 'ang(112).wav', 'ang(99).wav', 'ang(125).wav', 'ang(13).wav', 'ang(14).wav', 'ang(39).wav', 'ang(26).wav', 'ang(72).wav', 'ang(49).wav', 'ang(60).wav', 'ang(100).wav', 'ang(83).wav', 'ang(84).wav', 'ang(113).wav', 'ang(9).wav', 'ang(126).wav', 'ang(8).wav', 'ang(127).wav', 'ang(34).wav', 'ang(21).wav', 'ang(94).wav', 'ang(67).wav', 'ang(55).wav', 'ang(79).wav', 'ang(121).wav', 'ang(122).wav', 'ang(107).wav']\n"
          ]
        }
      ]
    },
    {
      "cell_type": "code",
      "source": [
        "for folder in os.listdir(data_dir):\n",
        "  os.makedirs(os.path.join(out_dir,folder))"
      ],
      "metadata": {
        "id": "VJUYIlqaz2Hy"
      },
      "execution_count": null,
      "outputs": []
    },
    {
      "cell_type": "code",
      "source": [
        "from matplotlib.colors import Normalize"
      ],
      "metadata": {
        "id": "LrX1gZRG57II"
      },
      "execution_count": null,
      "outputs": []
    },
    {
      "cell_type": "code",
      "source": [
        "for folder in os.listdir(data_dir):\n",
        "  i=0\n",
        "  for fil in os.listdir(os.path.join(data_dir,folder)):\n",
        "    dir=os.path.join(data_dir,folder,fil)\n",
        "    with soundfile.SoundFile(dir) as audio:\n",
        "      waveform=audio.read(dtype=\"float32\")\n",
        "      sample_rate=audio.samplerate\n",
        "      librosa.display.waveplot(waveform,sr=sample_rate)\n",
        "      stft_spectrum_matrix = librosa.stft(waveform)\n",
        "      librosa.display.specshow(librosa.amplitude_to_db(np.abs(stft_spectrum_matrix), ref=np.max),y_axis='log', x_axis='time')\n",
        "      #print(i)\n",
        "      plt.savefig(os.path.join(out_dir,folder,'spec{:04}.jpg'.format(i)))\n",
        "      mfc_coefficients = librosa.feature.mfcc(waveform, sr=sample_rate, n_mfcc=40)\n",
        "      librosa.display.specshow(mfc_coefficients, x_axis='time',norm=Normalize(vmin=-30,vmax=30))\n",
        "      plt.savefig(os.path.join(out_dir,folder,'mfcc{:04}.jpg'.format(i)))\n",
        "      chromagram = librosa.feature.chroma_stft(waveform, sr=sample_rate)\n",
        "      librosa.display.specshow(chromagram, y_axis='chroma', x_axis='time')\n",
        "      plt.savefig(os.path.join(out_dir,folder,'chroma{:04}.jpg'.format(i)))\n",
        "      i+=1\n",
        "    "
      ],
      "metadata": {
        "id": "J1OHTD6jz-Tq",
        "colab": {
          "base_uri": "https://localhost:8080/",
          "height": 279
        },
        "outputId": "69710f01-ba0c-4f92-fb52-08d0aa327979"
      },
      "execution_count": null,
      "outputs": [
        {
          "output_type": "display_data",
          "data": {
            "text/plain": [
              "<Figure size 432x288 with 1 Axes>"
            ],
            "image/png": "[encoded data removed]"
          },
          "metadata": {
            "needs_background": "light"
          }
        }
      ]
    },
    {
      "cell_type": "code",
      "source": [
        "#@title Utility to zip and download a directory\n",
        "#@markdown Use this method to zip and download a directory. For ex. a TB logs \n",
        "#@markdown directory or a checkpoint(s) directory.\n",
        "\n",
        "from google.colab import files\n",
        "import os\n",
        "\n",
        "dir_to_zip = 'speech_waveforms' #@param {type: \"string\"}\n",
        "output_filename = 'file.zip' #@param {type: \"string\"}\n",
        "delete_dir_after_download = \"No\"  #@param ['Yes', 'No']\n",
        "\n",
        "os.system( \"zip -r {} {}\".format( output_filename , dir_to_zip ) )\n",
        "\n",
        "if delete_dir_after_download == \"Yes\":\n",
        "    os.system( \"rm -r {}\".format( dir_to_zip ) )\n",
        "\n",
        "files.download( output_filename )"
      ],
      "metadata": {
        "id": "VLTVKyWk0VJk",
        "colab": {
          "base_uri": "https://localhost:8080/"
        },
        "outputId": "f53e8c19-9485-49e3-a33f-9b42db45f778"
      },
      "execution_count": null,
      "outputs": [
        {
          "output_type": "display_data",
          "data": {
            "text/plain": [
              "<IPython.core.display.Javascript object>"
            ],
            "application/javascript": [
              "\n",
              "    async function download(id, filename, size) {\n",
              "      if (!google.colab.kernel.accessAllowed) {\n",
              "        return;\n",
              "      }\n",
              "      const div = document.createElement('div');\n",
              "      const label = document.createElement('label');\n",
              "      label.textContent = `Downloading \"${filename}\": `;\n",
              "      div.appendChild(label);\n",
              "      const progress = document.createElement('progress');\n",
              "      progress.max = size;\n",
              "      div.appendChild(progress);\n",
              "      document.body.appendChild(div);\n",
              "\n",
              "      const buffers = [];\n",
              "      let downloaded = 0;\n",
              "\n",
              "      const channel = await google.colab.kernel.comms.open(id);\n",
              "      // Send a message to notify the kernel that we're ready.\n",
              "      channel.send({})\n",
              "\n",
              "      for await (const message of channel.messages) {\n",
              "        // Send a message to notify the kernel that we're ready.\n",
              "        channel.send({})\n",
              "        if (message.buffers) {\n",
              "          for (const buffer of message.buffers) {\n",
              "            buffers.push(buffer);\n",
              "            downloaded += buffer.byteLength;\n",
              "            progress.value = downloaded;\n",
              "          }\n",
              "        }\n",
              "      }\n",
              "      const blob = new Blob(buffers, {type: 'application/binary'});\n",
              "      const a = document.createElement('a');\n",
              "      a.href = window.URL.createObjectURL(blob);\n",
              "      a.download = filename;\n",
              "      div.appendChild(a);\n",
              "      a.click();\n",
              "      div.remove();\n",
              "    }\n",
              "  "
            ]
          },
          "metadata": {}
        },
        {
          "output_type": "display_data",
          "data": {
            "text/plain": [
              "<IPython.core.display.Javascript object>"
            ],
            "application/javascript": [
              "download(\"download_e0cbf19e-f069-43e3-bdfc-f395aced37d7\", \"file.zip\", 18392367)"
            ]
          },
          "metadata": {}
        }
      ]
    }
  ]
}